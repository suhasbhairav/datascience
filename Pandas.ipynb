{
  "nbformat": 4,
  "nbformat_minor": 0,
  "metadata": {
    "colab": {
      "name": "Pandas.ipynb",
      "provenance": []
    },
    "kernelspec": {
      "name": "python3",
      "display_name": "Python 3"
    }
  },
  "cells": [
    {
      "cell_type": "code",
      "metadata": {
        "id": "K8w9lrkfr9_o",
        "colab_type": "code",
        "colab": {}
      },
      "source": [
        "import pandas as pd\n",
        "import numpy as np"
      ],
      "execution_count": 0,
      "outputs": []
    },
    {
      "cell_type": "code",
      "metadata": {
        "id": "DKZJcpSisPyt",
        "colab_type": "code",
        "colab": {
          "base_uri": "https://localhost:8080/",
          "height": 34
        },
        "outputId": "094f18b8-d1fa-4575-f4b5-22db14e1fadc"
      },
      "source": [
        "s = pd.Series()\n",
        "print(s)"
      ],
      "execution_count": 3,
      "outputs": [
        {
          "output_type": "stream",
          "text": [
            "Series([], dtype: float64)\n"
          ],
          "name": "stdout"
        }
      ]
    },
    {
      "cell_type": "code",
      "metadata": {
        "id": "Y7bb0-upsXfR",
        "colab_type": "code",
        "colab": {
          "base_uri": "https://localhost:8080/",
          "height": 102
        },
        "outputId": "25ed971d-972b-4367-cac3-57797fdba676"
      },
      "source": [
        "arr = np.array(['a','b','c','d'], dtype='S1')\n",
        "s = pd.Series(arr)\n",
        "print(s)"
      ],
      "execution_count": 7,
      "outputs": [
        {
          "output_type": "stream",
          "text": [
            "0    b'a'\n",
            "1    b'b'\n",
            "2    b'c'\n",
            "3    b'd'\n",
            "dtype: bytes8\n"
          ],
          "name": "stdout"
        }
      ]
    },
    {
      "cell_type": "code",
      "metadata": {
        "id": "_0x8VTnNsjo6",
        "colab_type": "code",
        "colab": {
          "base_uri": "https://localhost:8080/",
          "height": 102
        },
        "outputId": "aabcf847-8778-4ee0-d117-c2767d3bcd5c"
      },
      "source": [
        "s = pd.Series(arr, index=[100,101,102,103])\n",
        "print(s)"
      ],
      "execution_count": 8,
      "outputs": [
        {
          "output_type": "stream",
          "text": [
            "100    b'a'\n",
            "101    b'b'\n",
            "102    b'c'\n",
            "103    b'd'\n",
            "dtype: bytes8\n"
          ],
          "name": "stdout"
        }
      ]
    },
    {
      "cell_type": "code",
      "metadata": {
        "id": "xFinYZkMsy3r",
        "colab_type": "code",
        "colab": {
          "base_uri": "https://localhost:8080/",
          "height": 68
        },
        "outputId": "00123114-f4fb-47e0-f091-cc31b762a360"
      },
      "source": [
        "dict1 = {'a': 1, 'b':2}\n",
        "s = pd.Series(dict1)\n",
        "print(s)"
      ],
      "execution_count": 18,
      "outputs": [
        {
          "output_type": "stream",
          "text": [
            "a    1\n",
            "b    2\n",
            "dtype: int64\n"
          ],
          "name": "stdout"
        }
      ]
    },
    {
      "cell_type": "code",
      "metadata": {
        "id": "3oQHQwUFtWw9",
        "colab_type": "code",
        "colab": {
          "base_uri": "https://localhost:8080/",
          "height": 34
        },
        "outputId": "c2f17030-f72b-4a54-c653-2ecaf0cd3c0d"
      },
      "source": [
        "print(dict1['a'])"
      ],
      "execution_count": 19,
      "outputs": [
        {
          "output_type": "stream",
          "text": [
            "1\n"
          ],
          "name": "stdout"
        }
      ]
    },
    {
      "cell_type": "code",
      "metadata": {
        "id": "DYs0iy-9s-5-",
        "colab_type": "code",
        "colab": {
          "base_uri": "https://localhost:8080/",
          "height": 102
        },
        "outputId": "2f2195ca-571c-4c44-cb02-7acb5664218c"
      },
      "source": [
        "s = pd.Series(5, index=[1,2,3,4])\n",
        "print(s)"
      ],
      "execution_count": 10,
      "outputs": [
        {
          "output_type": "stream",
          "text": [
            "1    5\n",
            "2    5\n",
            "3    5\n",
            "4    5\n",
            "dtype: int64\n"
          ],
          "name": "stdout"
        }
      ]
    },
    {
      "cell_type": "code",
      "metadata": {
        "id": "yy1oCcjutG0s",
        "colab_type": "code",
        "colab": {
          "base_uri": "https://localhost:8080/",
          "height": 34
        },
        "outputId": "e4688956-0e0a-4ebc-df1f-d9bad067f6cf"
      },
      "source": [
        "print(s[1])"
      ],
      "execution_count": 12,
      "outputs": [
        {
          "output_type": "stream",
          "text": [
            "5\n"
          ],
          "name": "stdout"
        }
      ]
    },
    {
      "cell_type": "code",
      "metadata": {
        "id": "xR9HQX5dtOSU",
        "colab_type": "code",
        "colab": {
          "base_uri": "https://localhost:8080/",
          "height": 68
        },
        "outputId": "edaf18ca-c147-457d-b959-0a6b9b2a8345"
      },
      "source": [
        "print(s[:2])"
      ],
      "execution_count": 13,
      "outputs": [
        {
          "output_type": "stream",
          "text": [
            "1    5\n",
            "2    5\n",
            "dtype: int64\n"
          ],
          "name": "stdout"
        }
      ]
    },
    {
      "cell_type": "code",
      "metadata": {
        "id": "DEQrEUL1tQyE",
        "colab_type": "code",
        "colab": {
          "base_uri": "https://localhost:8080/",
          "height": 68
        },
        "outputId": "9f5a032e-11bc-4b5d-9a83-f5947c6870d5"
      },
      "source": [
        "df = pd.DataFrame()\n",
        "print(df)"
      ],
      "execution_count": 20,
      "outputs": [
        {
          "output_type": "stream",
          "text": [
            "Empty DataFrame\n",
            "Columns: []\n",
            "Index: []\n"
          ],
          "name": "stdout"
        }
      ]
    },
    {
      "cell_type": "code",
      "metadata": {
        "id": "6FV8zbJUtv5j",
        "colab_type": "code",
        "colab": {
          "base_uri": "https://localhost:8080/",
          "height": 85
        },
        "outputId": "b9518eae-3100-4bb3-832b-e197f60e5f83"
      },
      "source": [
        "data = [['Suhas',1], ['Bhairav', 2], ['SS',3]]\n",
        "df = pd.DataFrame(data, columns=['Name', 'Age'])\n",
        "print(df)"
      ],
      "execution_count": 22,
      "outputs": [
        {
          "output_type": "stream",
          "text": [
            "      Name  Age\n",
            "0    Suhas    1\n",
            "1  Bhairav    2\n",
            "2       SS    3\n"
          ],
          "name": "stdout"
        }
      ]
    },
    {
      "cell_type": "code",
      "metadata": {
        "id": "mFMo1EscuCyG",
        "colab_type": "code",
        "colab": {
          "base_uri": "https://localhost:8080/",
          "height": 85
        },
        "outputId": "8cca0981-0736-4632-df0f-0ee9f5e36ee6"
      },
      "source": [
        "data = [['Parrot', 1], ['Zebra', 2], ['Lion', 3]]\n",
        "df = pd.DataFrame(data, columns=['Animal', 'Count'], dtype=float)\n",
        "print(df)"
      ],
      "execution_count": 24,
      "outputs": [
        {
          "output_type": "stream",
          "text": [
            "   Animal  Count\n",
            "0  Parrot    1.0\n",
            "1   Zebra    2.0\n",
            "2    Lion    3.0\n"
          ],
          "name": "stdout"
        }
      ]
    },
    {
      "cell_type": "code",
      "metadata": {
        "id": "tBBCI0TkuY5t",
        "colab_type": "code",
        "colab": {}
      },
      "source": [
        "data ={'Name':['Suhas', 'K', 'Bhairav', 'S', 'S'], 'Age':[1,2,3,4,5]}"
      ],
      "execution_count": 0,
      "outputs": []
    },
    {
      "cell_type": "code",
      "metadata": {
        "id": "QDVDbDzwuhtG",
        "colab_type": "code",
        "colab": {
          "base_uri": "https://localhost:8080/",
          "height": 119
        },
        "outputId": "328a0dfa-6d4f-4748-c1ad-b0e58a868bc9"
      },
      "source": [
        "df = pd.DataFrame(data, dtype=float)\n",
        "print(df)"
      ],
      "execution_count": 28,
      "outputs": [
        {
          "output_type": "stream",
          "text": [
            "      Name  Age\n",
            "0    Suhas  1.0\n",
            "1        K  2.0\n",
            "2  Bhairav  3.0\n",
            "3        S  4.0\n",
            "4        S  5.0\n"
          ],
          "name": "stdout"
        }
      ]
    },
    {
      "cell_type": "code",
      "metadata": {
        "id": "p2_F2sDtuSSs",
        "colab_type": "code",
        "colab": {
          "base_uri": "https://localhost:8080/",
          "height": 119
        },
        "outputId": "c04af68c-a041-448e-9aa0-ebdb3ce9a71e"
      },
      "source": [
        "df['AgeProduct'] = df['Age'] * 3\n",
        "print(df)"
      ],
      "execution_count": 31,
      "outputs": [
        {
          "output_type": "stream",
          "text": [
            "      Name  Age  Age Product  AgeProduct\n",
            "0    Suhas  1.0          3.0         3.0\n",
            "1        K  2.0          6.0         6.0\n",
            "2  Bhairav  3.0          9.0         9.0\n",
            "3        S  4.0         12.0        12.0\n",
            "4        S  5.0         15.0        15.0\n"
          ],
          "name": "stdout"
        }
      ]
    },
    {
      "cell_type": "code",
      "metadata": {
        "id": "bnaBAzUivM9J",
        "colab_type": "code",
        "colab": {}
      },
      "source": [
        "del df['AgeProduct']\n"
      ],
      "execution_count": 0,
      "outputs": []
    },
    {
      "cell_type": "code",
      "metadata": {
        "id": "ttIZck7PvSRm",
        "colab_type": "code",
        "colab": {
          "base_uri": "https://localhost:8080/",
          "height": 119
        },
        "outputId": "1708e691-7d58-40b8-8618-8eb6e41ad935"
      },
      "source": [
        "print(df)"
      ],
      "execution_count": 34,
      "outputs": [
        {
          "output_type": "stream",
          "text": [
            "      Name  Age  Age Product\n",
            "0    Suhas  1.0          3.0\n",
            "1        K  2.0          6.0\n",
            "2  Bhairav  3.0          9.0\n",
            "3        S  4.0         12.0\n",
            "4        S  5.0         15.0\n"
          ],
          "name": "stdout"
        }
      ]
    },
    {
      "cell_type": "code",
      "metadata": {
        "id": "Mj8pE7tvvXN7",
        "colab_type": "code",
        "colab": {
          "base_uri": "https://localhost:8080/",
          "height": 85
        },
        "outputId": "19626a50-0273-4167-f173-9c7ed1661b7d"
      },
      "source": [
        "print(df.iloc[2])"
      ],
      "execution_count": 35,
      "outputs": [
        {
          "output_type": "stream",
          "text": [
            "Name           Bhairav\n",
            "Age                  3\n",
            "Age Product          9\n",
            "Name: 2, dtype: object\n"
          ],
          "name": "stdout"
        }
      ]
    },
    {
      "cell_type": "code",
      "metadata": {
        "id": "wJ7VrDcavecr",
        "colab_type": "code",
        "colab": {
          "base_uri": "https://localhost:8080/",
          "height": 102
        },
        "outputId": "1ec176ac-9b66-4613-8886-6408eafd1d64"
      },
      "source": [
        "s = pd.Series(np.random.randn(4))\n",
        "print(s)"
      ],
      "execution_count": 38,
      "outputs": [
        {
          "output_type": "stream",
          "text": [
            "0   -0.521608\n",
            "1    0.531578\n",
            "2    0.166328\n",
            "3    0.274588\n",
            "dtype: float64\n"
          ],
          "name": "stdout"
        }
      ]
    },
    {
      "cell_type": "code",
      "metadata": {
        "id": "WrXGYLK2v_L_",
        "colab_type": "code",
        "colab": {
          "base_uri": "https://localhost:8080/",
          "height": 204
        },
        "outputId": "2613e197-bbbd-4264-e653-a7d8b6ac40bc"
      },
      "source": [
        "s = pd.Series(np.random.randn(10))\n",
        "print(s)"
      ],
      "execution_count": 39,
      "outputs": [
        {
          "output_type": "stream",
          "text": [
            "0    1.303001\n",
            "1    1.679153\n",
            "2   -1.667754\n",
            "3   -1.625749\n",
            "4    0.104350\n",
            "5   -0.280387\n",
            "6   -0.374989\n",
            "7    1.078972\n",
            "8    1.228946\n",
            "9    0.158844\n",
            "dtype: float64\n"
          ],
          "name": "stdout"
        }
      ]
    },
    {
      "cell_type": "code",
      "metadata": {
        "id": "bdTaVInHwEFl",
        "colab_type": "code",
        "colab": {
          "base_uri": "https://localhost:8080/",
          "height": 68
        },
        "outputId": "fefd6469-d8a8-4b29-fe9e-4bc800bf4507"
      },
      "source": [
        "print(s.head(2))"
      ],
      "execution_count": 40,
      "outputs": [
        {
          "output_type": "stream",
          "text": [
            "0    1.303001\n",
            "1    1.679153\n",
            "dtype: float64\n"
          ],
          "name": "stdout"
        }
      ]
    },
    {
      "cell_type": "code",
      "metadata": {
        "id": "BlQ2grTZwOkL",
        "colab_type": "code",
        "colab": {
          "base_uri": "https://localhost:8080/",
          "height": 68
        },
        "outputId": "49e93adc-be06-4b3a-b2f4-ec0f7683847b"
      },
      "source": [
        "print(s.tail(2))"
      ],
      "execution_count": 41,
      "outputs": [
        {
          "output_type": "stream",
          "text": [
            "8    1.228946\n",
            "9    0.158844\n",
            "dtype: float64\n"
          ],
          "name": "stdout"
        }
      ]
    },
    {
      "cell_type": "code",
      "metadata": {
        "id": "reMM41nGwVc8",
        "colab_type": "code",
        "colab": {
          "base_uri": "https://localhost:8080/",
          "height": 34
        },
        "outputId": "1809480d-808a-4132-9ac8-669e0c09d06e"
      },
      "source": [
        "print(s.dtypes)"
      ],
      "execution_count": 42,
      "outputs": [
        {
          "output_type": "stream",
          "text": [
            "float64\n"
          ],
          "name": "stdout"
        }
      ]
    },
    {
      "cell_type": "code",
      "metadata": {
        "id": "4EgUAXBxwZy8",
        "colab_type": "code",
        "colab": {
          "base_uri": "https://localhost:8080/",
          "height": 34
        },
        "outputId": "98377710-1ae1-42b9-c768-1109caaacc4f"
      },
      "source": [
        "print(s.shape)"
      ],
      "execution_count": 43,
      "outputs": [
        {
          "output_type": "stream",
          "text": [
            "(10,)\n"
          ],
          "name": "stdout"
        }
      ]
    },
    {
      "cell_type": "code",
      "metadata": {
        "id": "QX4zBaVGwqsZ",
        "colab_type": "code",
        "colab": {
          "base_uri": "https://localhost:8080/",
          "height": 204
        },
        "outputId": "54ba4c16-d6c2-4b30-b93f-2a478b98d58f"
      },
      "source": [
        "print(s.diff())"
      ],
      "execution_count": 46,
      "outputs": [
        {
          "output_type": "stream",
          "text": [
            "0         NaN\n",
            "1    0.376153\n",
            "2   -3.346907\n",
            "3    0.042005\n",
            "4    1.730099\n",
            "5   -0.384737\n",
            "6   -0.094602\n",
            "7    1.453961\n",
            "8    0.149974\n",
            "9   -1.070101\n",
            "dtype: float64\n"
          ],
          "name": "stdout"
        }
      ]
    },
    {
      "cell_type": "code",
      "metadata": {
        "id": "hbPeEnsLweVN",
        "colab_type": "code",
        "colab": {
          "base_uri": "https://localhost:8080/",
          "height": 34
        },
        "outputId": "88bf9a4c-edc5-40a7-d21e-805c569c295c"
      },
      "source": [
        "print(s.size)"
      ],
      "execution_count": 44,
      "outputs": [
        {
          "output_type": "stream",
          "text": [
            "10\n"
          ],
          "name": "stdout"
        }
      ]
    },
    {
      "cell_type": "code",
      "metadata": {
        "id": "XZqcoOPiwgoI",
        "colab_type": "code",
        "colab": {
          "base_uri": "https://localhost:8080/",
          "height": 34
        },
        "outputId": "c4abed82-db64-4247-eec0-82e7ae97e15b"
      },
      "source": [
        "print(s.sum())"
      ],
      "execution_count": 45,
      "outputs": [
        {
          "output_type": "stream",
          "text": [
            "1.6043879122071603\n"
          ],
          "name": "stdout"
        }
      ]
    },
    {
      "cell_type": "code",
      "metadata": {
        "id": "Vzm44Kixwvyo",
        "colab_type": "code",
        "colab": {
          "base_uri": "https://localhost:8080/",
          "height": 68
        },
        "outputId": "a4b13d28-4c2c-47db-d40c-1ff12ac643d4"
      },
      "source": [
        "print(df.mean())"
      ],
      "execution_count": 47,
      "outputs": [
        {
          "output_type": "stream",
          "text": [
            "Age            3.0\n",
            "Age Product    9.0\n",
            "dtype: float64\n"
          ],
          "name": "stdout"
        }
      ]
    },
    {
      "cell_type": "code",
      "metadata": {
        "id": "Q0tiwzsdw4J8",
        "colab_type": "code",
        "colab": {
          "base_uri": "https://localhost:8080/",
          "height": 34
        },
        "outputId": "d92d4286-249b-415f-b01d-c36653a9e7cf"
      },
      "source": [
        "print(s.mean())"
      ],
      "execution_count": 48,
      "outputs": [
        {
          "output_type": "stream",
          "text": [
            "0.16043879122071603\n"
          ],
          "name": "stdout"
        }
      ]
    },
    {
      "cell_type": "code",
      "metadata": {
        "id": "xewvi51uw92H",
        "colab_type": "code",
        "colab": {
          "base_uri": "https://localhost:8080/",
          "height": 68
        },
        "outputId": "675e16e5-1e27-430c-d955-fc41d79efd63"
      },
      "source": [
        "print(df.std(), s.std())"
      ],
      "execution_count": 49,
      "outputs": [
        {
          "output_type": "stream",
          "text": [
            "Age            1.581139\n",
            "Age Product    4.743416\n",
            "dtype: float64 1.1838853888932521\n"
          ],
          "name": "stdout"
        }
      ]
    }
  ]
}