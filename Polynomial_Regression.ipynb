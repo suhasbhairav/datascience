{
  "nbformat": 4,
  "nbformat_minor": 0,
  "metadata": {
    "colab": {
      "name": "Polynomial Regression.ipynb",
      "provenance": []
    },
    "kernelspec": {
      "name": "python3",
      "display_name": "Python 3"
    }
  },
  "cells": [
    {
      "cell_type": "code",
      "metadata": {
        "id": "kfbv4RJl2CpS",
        "colab_type": "code",
        "colab": {}
      },
      "source": [
        "from sklearn.linear_model import LinearRegression\n",
        "from sklearn.preprocessing import PolynomialFeatures"
      ],
      "execution_count": 0,
      "outputs": []
    },
    {
      "cell_type": "code",
      "metadata": {
        "id": "wpmJTBgh3YT9",
        "colab_type": "code",
        "colab": {}
      },
      "source": [
        "X_train = [[6], [8], [10], [14], [18]]\n",
        "y_train = [[7], [9], [13], [17.5], [18]]"
      ],
      "execution_count": 0,
      "outputs": []
    },
    {
      "cell_type": "code",
      "metadata": {
        "id": "U-8ZLB_03k15",
        "colab_type": "code",
        "colab": {}
      },
      "source": [
        "X_test = [[6], [8], [11], [16]]\n",
        "y_test = [[8], [12], [15], [18]]"
      ],
      "execution_count": 0,
      "outputs": []
    },
    {
      "cell_type": "code",
      "metadata": {
        "id": "VaYpATCf3v4R",
        "colab_type": "code",
        "colab": {}
      },
      "source": [
        "regressor = LinearRegression()"
      ],
      "execution_count": 0,
      "outputs": []
    },
    {
      "cell_type": "code",
      "metadata": {
        "id": "FAo3Mg1M3zzD",
        "colab_type": "code",
        "colab": {
          "base_uri": "https://localhost:8080/",
          "height": 34
        },
        "outputId": "62ec89b8-97c5-4135-c72b-c7f548ba7e71"
      },
      "source": [
        "regressor.fit(X_train, y_train)"
      ],
      "execution_count": 26,
      "outputs": [
        {
          "output_type": "execute_result",
          "data": {
            "text/plain": [
              "LinearRegression(copy_X=True, fit_intercept=True, n_jobs=None, normalize=False)"
            ]
          },
          "metadata": {
            "tags": []
          },
          "execution_count": 26
        }
      ]
    },
    {
      "cell_type": "code",
      "metadata": {
        "id": "-bA65LDD34BC",
        "colab_type": "code",
        "colab": {}
      },
      "source": [
        "import numpy as np\n",
        "import matplotlib.pyplot as plt\n"
      ],
      "execution_count": 0,
      "outputs": []
    },
    {
      "cell_type": "code",
      "metadata": {
        "id": "lGNnghXy3-iy",
        "colab_type": "code",
        "colab": {}
      },
      "source": [
        "xx = np.linspace(0,26,100)"
      ],
      "execution_count": 0,
      "outputs": []
    },
    {
      "cell_type": "code",
      "metadata": {
        "id": "v2TWTUMs4JCm",
        "colab_type": "code",
        "colab": {
          "base_uri": "https://localhost:8080/",
          "height": 34
        },
        "outputId": "6cafde0b-8971-4bf3-be78-eeff422d741d"
      },
      "source": [
        "print(xx.shape[0],1)"
      ],
      "execution_count": 29,
      "outputs": [
        {
          "output_type": "stream",
          "text": [
            "100 1\n"
          ],
          "name": "stdout"
        }
      ]
    },
    {
      "cell_type": "code",
      "metadata": {
        "id": "MAZiVc274Ou5",
        "colab_type": "code",
        "colab": {
          "base_uri": "https://localhost:8080/",
          "height": 1000
        },
        "outputId": "9433e931-1342-4af5-e543-6190cb7a0e36"
      },
      "source": [
        "print(xx.reshape(xx.shape[0], 1))"
      ],
      "execution_count": 30,
      "outputs": [
        {
          "output_type": "stream",
          "text": [
            "[[ 0.        ]\n",
            " [ 0.26262626]\n",
            " [ 0.52525253]\n",
            " [ 0.78787879]\n",
            " [ 1.05050505]\n",
            " [ 1.31313131]\n",
            " [ 1.57575758]\n",
            " [ 1.83838384]\n",
            " [ 2.1010101 ]\n",
            " [ 2.36363636]\n",
            " [ 2.62626263]\n",
            " [ 2.88888889]\n",
            " [ 3.15151515]\n",
            " [ 3.41414141]\n",
            " [ 3.67676768]\n",
            " [ 3.93939394]\n",
            " [ 4.2020202 ]\n",
            " [ 4.46464646]\n",
            " [ 4.72727273]\n",
            " [ 4.98989899]\n",
            " [ 5.25252525]\n",
            " [ 5.51515152]\n",
            " [ 5.77777778]\n",
            " [ 6.04040404]\n",
            " [ 6.3030303 ]\n",
            " [ 6.56565657]\n",
            " [ 6.82828283]\n",
            " [ 7.09090909]\n",
            " [ 7.35353535]\n",
            " [ 7.61616162]\n",
            " [ 7.87878788]\n",
            " [ 8.14141414]\n",
            " [ 8.4040404 ]\n",
            " [ 8.66666667]\n",
            " [ 8.92929293]\n",
            " [ 9.19191919]\n",
            " [ 9.45454545]\n",
            " [ 9.71717172]\n",
            " [ 9.97979798]\n",
            " [10.24242424]\n",
            " [10.50505051]\n",
            " [10.76767677]\n",
            " [11.03030303]\n",
            " [11.29292929]\n",
            " [11.55555556]\n",
            " [11.81818182]\n",
            " [12.08080808]\n",
            " [12.34343434]\n",
            " [12.60606061]\n",
            " [12.86868687]\n",
            " [13.13131313]\n",
            " [13.39393939]\n",
            " [13.65656566]\n",
            " [13.91919192]\n",
            " [14.18181818]\n",
            " [14.44444444]\n",
            " [14.70707071]\n",
            " [14.96969697]\n",
            " [15.23232323]\n",
            " [15.49494949]\n",
            " [15.75757576]\n",
            " [16.02020202]\n",
            " [16.28282828]\n",
            " [16.54545455]\n",
            " [16.80808081]\n",
            " [17.07070707]\n",
            " [17.33333333]\n",
            " [17.5959596 ]\n",
            " [17.85858586]\n",
            " [18.12121212]\n",
            " [18.38383838]\n",
            " [18.64646465]\n",
            " [18.90909091]\n",
            " [19.17171717]\n",
            " [19.43434343]\n",
            " [19.6969697 ]\n",
            " [19.95959596]\n",
            " [20.22222222]\n",
            " [20.48484848]\n",
            " [20.74747475]\n",
            " [21.01010101]\n",
            " [21.27272727]\n",
            " [21.53535354]\n",
            " [21.7979798 ]\n",
            " [22.06060606]\n",
            " [22.32323232]\n",
            " [22.58585859]\n",
            " [22.84848485]\n",
            " [23.11111111]\n",
            " [23.37373737]\n",
            " [23.63636364]\n",
            " [23.8989899 ]\n",
            " [24.16161616]\n",
            " [24.42424242]\n",
            " [24.68686869]\n",
            " [24.94949495]\n",
            " [25.21212121]\n",
            " [25.47474747]\n",
            " [25.73737374]\n",
            " [26.        ]]\n"
          ],
          "name": "stdout"
        }
      ]
    },
    {
      "cell_type": "code",
      "metadata": {
        "id": "_BfLDtPu4ckZ",
        "colab_type": "code",
        "colab": {}
      },
      "source": [
        "yy = regressor.predict(xx.reshape(xx.shape[0], 1))"
      ],
      "execution_count": 0,
      "outputs": []
    },
    {
      "cell_type": "code",
      "metadata": {
        "id": "inzI3XL54lBM",
        "colab_type": "code",
        "colab": {
          "base_uri": "https://localhost:8080/",
          "height": 282
        },
        "outputId": "ad29d7a7-d1d3-49af-da96-4e5713c99108"
      },
      "source": [
        "plt.plot(xx, yy)"
      ],
      "execution_count": 32,
      "outputs": [
        {
          "output_type": "execute_result",
          "data": {
            "text/plain": [
              "[<matplotlib.lines.Line2D at 0x7f644fdf99b0>]"
            ]
          },
          "metadata": {
            "tags": []
          },
          "execution_count": 32
        },
        {
          "output_type": "display_data",
          "data": {
            "image/png": "[encoded data removed]",
            "text/plain": [
              "<Figure size 432x288 with 1 Axes>"
            ]
          },
          "metadata": {
            "tags": []
          }
        }
      ]
    },
    {
      "cell_type": "code",
      "metadata": {
        "id": "Bu1MVtIu4oCs",
        "colab_type": "code",
        "colab": {}
      },
      "source": [
        "quadratic_featurizer = PolynomialFeatures(degree=2)"
      ],
      "execution_count": 0,
      "outputs": []
    },
    {
      "cell_type": "code",
      "metadata": {
        "id": "j99gqfOL4tu8",
        "colab_type": "code",
        "colab": {}
      },
      "source": [
        "X_train_quadratic = quadratic_featurizer.fit_transform(X_train)"
      ],
      "execution_count": 0,
      "outputs": []
    },
    {
      "cell_type": "code",
      "metadata": {
        "id": "Rp5oRjXh41yU",
        "colab_type": "code",
        "colab": {}
      },
      "source": [
        "X_test_quadratic = quadratic_featurizer.transform(X_test)"
      ],
      "execution_count": 0,
      "outputs": []
    },
    {
      "cell_type": "code",
      "metadata": {
        "id": "kBehdJHz48Hc",
        "colab_type": "code",
        "colab": {
          "base_uri": "https://localhost:8080/",
          "height": 34
        },
        "outputId": "57c83df6-a1a2-4c9e-b4f8-3c5928683134"
      },
      "source": [
        "regressor_quadratic = LinearRegression()\n",
        "regressor_quadratic.fit(X_train_quadratic, y_train)"
      ],
      "execution_count": 36,
      "outputs": [
        {
          "output_type": "execute_result",
          "data": {
            "text/plain": [
              "LinearRegression(copy_X=True, fit_intercept=True, n_jobs=None, normalize=False)"
            ]
          },
          "metadata": {
            "tags": []
          },
          "execution_count": 36
        }
      ]
    },
    {
      "cell_type": "code",
      "metadata": {
        "id": "6Ln5WCQR5Lab",
        "colab_type": "code",
        "colab": {}
      },
      "source": [
        "xx_quadratic = quadratic_featurizer.transform(xx.reshape(xx.shape[0], 1))"
      ],
      "execution_count": 0,
      "outputs": []
    },
    {
      "cell_type": "code",
      "metadata": {
        "id": "axVDLPGI5n39",
        "colab_type": "code",
        "colab": {
          "base_uri": "https://localhost:8080/",
          "height": 282
        },
        "outputId": "2fee0519-9d77-4acc-84b1-9fe64ddd1243"
      },
      "source": [
        " plt.plot(xx, regressor_quadratic.predict(xx_quadratic), c='r', linestyle='--')"
      ],
      "execution_count": 38,
      "outputs": [
        {
          "output_type": "execute_result",
          "data": {
            "text/plain": [
              "[<matplotlib.lines.Line2D at 0x7f644fd51cc0>]"
            ]
          },
          "metadata": {
            "tags": []
          },
          "execution_count": 38
        },
        {
          "output_type": "display_data",
          "data": {
            "image/png": "[encoded data removed]",
            "text/plain": [
              "<Figure size 432x288 with 1 Axes>"
            ]
          },
          "metadata": {
            "tags": []
          }
        }
      ]
    },
    {
      "cell_type": "code",
      "metadata": {
        "id": "I2uinIAY55mk",
        "colab_type": "code",
        "colab": {
          "base_uri": "https://localhost:8080/",
          "height": 298
        },
        "outputId": "73937d73-7221-4e3d-a671-4b4d5412a335"
      },
      "source": [
        "plt.title(\"Pizza regressed on diameter\")"
      ],
      "execution_count": 39,
      "outputs": [
        {
          "output_type": "execute_result",
          "data": {
            "text/plain": [
              "Text(0.5, 1.0, 'Pizza regressed on diameter')"
            ]
          },
          "metadata": {
            "tags": []
          },
          "execution_count": 39
        },
        {
          "output_type": "display_data",
          "data": {
            "image/png": "[encoded data removed]",
            "text/plain": [
              "<Figure size 432x288 with 1 Axes>"
            ]
          },
          "metadata": {
            "tags": []
          }
        }
      ]
    },
    {
      "cell_type": "code",
      "metadata": {
        "id": "zWDw3GXA5-lL",
        "colab_type": "code",
        "colab": {
          "base_uri": "https://localhost:8080/",
          "height": 300
        },
        "outputId": "4d607d74-a622-4956-9062-e162e9735b77"
      },
      "source": [
        "plt.xlabel(\"Diameter in inches\")\n",
        "plt.ylabel(\"Price in dollars\")\n",
        "plt.axis([0,25,0,25])\n",
        "plt.grid(True)\n",
        "plt.scatter(X_train, y_train)"
      ],
      "execution_count": 40,
      "outputs": [
        {
          "output_type": "execute_result",
          "data": {
            "text/plain": [
              "<matplotlib.collections.PathCollection at 0x7f644fcfcd30>"
            ]
          },
          "metadata": {
            "tags": []
          },
          "execution_count": 40
        },
        {
          "output_type": "display_data",
          "data": {
            "image/png": "[encoded data removed]",
            "text/plain": [
              "<Figure size 432x288 with 1 Axes>"
            ]
          },
          "metadata": {
            "tags": []
          }
        }
      ]
    },
    {
      "cell_type": "code",
      "metadata": {
        "id": "_SYitFKv6Rzr",
        "colab_type": "code",
        "colab": {}
      },
      "source": [
        "plt.show()"
      ],
      "execution_count": 0,
      "outputs": []
    },
    {
      "cell_type": "code",
      "metadata": {
        "id": "y2YI4GZA6Xmd",
        "colab_type": "code",
        "colab": {
          "base_uri": "https://localhost:8080/",
          "height": 34
        },
        "outputId": "2a1bff32-f818-48ba-db29-dc6077e098ae"
      },
      "source": [
        "print(X_train)"
      ],
      "execution_count": 42,
      "outputs": [
        {
          "output_type": "stream",
          "text": [
            "[[6], [8], [10], [14], [18]]\n"
          ],
          "name": "stdout"
        }
      ]
    },
    {
      "cell_type": "code",
      "metadata": {
        "id": "Af55tCA96aCM",
        "colab_type": "code",
        "colab": {
          "base_uri": "https://localhost:8080/",
          "height": 102
        },
        "outputId": "cf3d51c5-c6c7-4e6e-874c-187ade23750f"
      },
      "source": [
        "print(X_train_quadratic)"
      ],
      "execution_count": 43,
      "outputs": [
        {
          "output_type": "stream",
          "text": [
            "[[  1.   6.  36.]\n",
            " [  1.   8.  64.]\n",
            " [  1.  10. 100.]\n",
            " [  1.  14. 196.]\n",
            " [  1.  18. 324.]]\n"
          ],
          "name": "stdout"
        }
      ]
    },
    {
      "cell_type": "code",
      "metadata": {
        "id": "Yg60-uhe6etm",
        "colab_type": "code",
        "colab": {
          "base_uri": "https://localhost:8080/",
          "height": 34
        },
        "outputId": "2dad24ab-cea9-4fb7-d865-00370960f68e"
      },
      "source": [
        "print(X_test)"
      ],
      "execution_count": 44,
      "outputs": [
        {
          "output_type": "stream",
          "text": [
            "[[6], [8], [11], [16]]\n"
          ],
          "name": "stdout"
        }
      ]
    },
    {
      "cell_type": "code",
      "metadata": {
        "id": "mVmWp6v56g88",
        "colab_type": "code",
        "colab": {
          "base_uri": "https://localhost:8080/",
          "height": 85
        },
        "outputId": "a2244fdd-e5ce-448d-9555-7f6317dc1d8e"
      },
      "source": [
        "print(X_test_quadratic)"
      ],
      "execution_count": 45,
      "outputs": [
        {
          "output_type": "stream",
          "text": [
            "[[  1.   6.  36.]\n",
            " [  1.   8.  64.]\n",
            " [  1.  11. 121.]\n",
            " [  1.  16. 256.]]\n"
          ],
          "name": "stdout"
        }
      ]
    },
    {
      "cell_type": "code",
      "metadata": {
        "id": "zPVSRiiP6l18",
        "colab_type": "code",
        "colab": {
          "base_uri": "https://localhost:8080/",
          "height": 34
        },
        "outputId": "94ad85a5-d32c-423d-8bcd-f944a96f3059"
      },
      "source": [
        "regressor.score(X_test, y_test)"
      ],
      "execution_count": 46,
      "outputs": [
        {
          "output_type": "execute_result",
          "data": {
            "text/plain": [
              "0.809726797707665"
            ]
          },
          "metadata": {
            "tags": []
          },
          "execution_count": 46
        }
      ]
    },
    {
      "cell_type": "code",
      "metadata": {
        "id": "tMdAATn86p52",
        "colab_type": "code",
        "colab": {
          "base_uri": "https://localhost:8080/",
          "height": 34
        },
        "outputId": "d8a92fc2-a502-402c-8463-863a68bae48c"
      },
      "source": [
        "regressor_quadratic.score(X_test_quadratic, y_test)"
      ],
      "execution_count": 47,
      "outputs": [
        {
          "output_type": "execute_result",
          "data": {
            "text/plain": [
              "0.8675443656345054"
            ]
          },
          "metadata": {
            "tags": []
          },
          "execution_count": 47
        }
      ]
    }
  ]
}