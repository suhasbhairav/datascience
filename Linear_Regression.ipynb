{
  "nbformat": 4,
  "nbformat_minor": 0,
  "metadata": {
    "colab": {
      "name": "Linear Regression.ipynb",
      "provenance": []
    },
    "kernelspec": {
      "name": "python3",
      "display_name": "Python 3"
    }
  },
  "cells": [
    {
      "cell_type": "code",
      "metadata": {
        "id": "IaLEZCco60e4",
        "colab_type": "code",
        "colab": {
          "base_uri": "https://localhost:8080/",
          "height": 295
        },
        "outputId": "0375b5ca-8d07-461e-b5a9-1b25e753249f"
      },
      "source": [
        "import matplotlib.pyplot as plt\n",
        "X=[[6],[8],[10], [14], [18]]\n",
        "y=[[7], [9], [13], [17.5], [18]]\n",
        "plt.figure()\n",
        "plt.title(\"Pizza price plotted against diameter\")\n",
        "plt.xlabel(\"Diameter in inches\")\n",
        "plt.ylabel(\"Price in dollars\")\n",
        "plt.plot(X, y, \"k.\")\n",
        "plt.axis([0,25,0,25])\n",
        "plt.grid(True)\n",
        "plt.show()"
      ],
      "execution_count": 24,
      "outputs": [
        {
          "output_type": "display_data",
          "data": {
            "image/png": "[encoded data removed]",
            "text/plain": [
              "<Figure size 432x288 with 1 Axes>"
            ]
          },
          "metadata": {
            "tags": []
          }
        }
      ]
    },
    {
      "cell_type": "code",
      "metadata": {
        "id": "dwSRB7M783Hm",
        "colab_type": "code",
        "colab": {}
      },
      "source": [
        "#The above graph shows a linear progress\n",
        "#As the diameter of the pizza increases, so does the price."
      ],
      "execution_count": 0,
      "outputs": []
    },
    {
      "cell_type": "code",
      "metadata": {
        "id": "wtE9vI538RSu",
        "colab_type": "code",
        "colab": {}
      },
      "source": [
        "from sklearn.linear_model import LinearRegression"
      ],
      "execution_count": 0,
      "outputs": []
    },
    {
      "cell_type": "code",
      "metadata": {
        "id": "h7bPswQn8XD_",
        "colab_type": "code",
        "colab": {}
      },
      "source": [
        "#Training Data\n",
        "X= [[6], [8], [10], [14], [18]]\n",
        "y = [[7], [9], [13], [17.5], [18]]"
      ],
      "execution_count": 0,
      "outputs": []
    },
    {
      "cell_type": "code",
      "metadata": {
        "id": "k9T6h6pu8mv9",
        "colab_type": "code",
        "colab": {}
      },
      "source": [
        "model = LinearRegression()"
      ],
      "execution_count": 0,
      "outputs": []
    },
    {
      "cell_type": "code",
      "metadata": {
        "id": "LzrUWxTp8p6w",
        "colab_type": "code",
        "colab": {
          "base_uri": "https://localhost:8080/",
          "height": 34
        },
        "outputId": "5fda35fb-8f0c-411f-b75b-ae50dbd8ed6f"
      },
      "source": [
        "model.fit(X,y)"
      ],
      "execution_count": 28,
      "outputs": [
        {
          "output_type": "execute_result",
          "data": {
            "text/plain": [
              "LinearRegression(copy_X=True, fit_intercept=True, n_jobs=None, normalize=False)"
            ]
          },
          "metadata": {
            "tags": []
          },
          "execution_count": 28
        }
      ]
    },
    {
      "cell_type": "code",
      "metadata": {
        "id": "UvfzGLjP8stf",
        "colab_type": "code",
        "colab": {
          "base_uri": "https://localhost:8080/",
          "height": 34
        },
        "outputId": "5d040344-4f89-46c7-f828-281c4fe8ae46"
      },
      "source": [
        "model.predict([[12]])"
      ],
      "execution_count": 36,
      "outputs": [
        {
          "output_type": "execute_result",
          "data": {
            "text/plain": [
              "array([[13.68103448]])"
            ]
          },
          "metadata": {
            "tags": []
          },
          "execution_count": 36
        }
      ]
    }
  ]
}