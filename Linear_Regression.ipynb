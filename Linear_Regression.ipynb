{
  "nbformat": 4,
  "nbformat_minor": 0,
  "metadata": {
    "colab": {
      "name": "Linear Regression.ipynb",
      "provenance": []
    },
    "kernelspec": {
      "name": "python3",
      "display_name": "Python 3"
    }
  },
  "cells": [
    {
      "cell_type": "code",
      "metadata": {
        "id": "uOQ1ALmRxsxZ",
        "colab_type": "code",
        "colab": {}
      },
      "source": [
        "from sklearn.linear_model import LinearRegression"
      ],
      "execution_count": 0,
      "outputs": []
    },
    {
      "cell_type": "code",
      "metadata": {
        "id": "rIrabCSOx80r",
        "colab_type": "code",
        "colab": {}
      },
      "source": [
        "#X = [Diameter, # of toppings]\n",
        "#y= [Dollars]\n",
        "X=[[6,2], [8,1],[10,0],[14,2], [18,0]]\n",
        "y=[[7],[9],[13], [17.5], [18]]"
      ],
      "execution_count": 0,
      "outputs": []
    },
    {
      "cell_type": "code",
      "metadata": {
        "id": "Ee6bgPZIyLQI",
        "colab_type": "code",
        "colab": {}
      },
      "source": [
        "model = LinearRegression()"
      ],
      "execution_count": 0,
      "outputs": []
    },
    {
      "cell_type": "code",
      "metadata": {
        "id": "Gl7qTjoGyus5",
        "colab_type": "code",
        "colab": {
          "base_uri": "https://localhost:8080/",
          "height": 34
        },
        "outputId": "b01ba58a-3cd4-40a1-b5ea-c0f3599e8312"
      },
      "source": [
        "model.fit(X,y)"
      ],
      "execution_count": 4,
      "outputs": [
        {
          "output_type": "execute_result",
          "data": {
            "text/plain": [
              "LinearRegression(copy_X=True, fit_intercept=True, n_jobs=None, normalize=False)"
            ]
          },
          "metadata": {
            "tags": []
          },
          "execution_count": 4
        }
      ]
    },
    {
      "cell_type": "code",
      "metadata": {
        "id": "OlADypFJyww7",
        "colab_type": "code",
        "colab": {}
      },
      "source": [
        "X_test = [[8,2], [9,0], [11,2], [16,2], [12,0]]\n",
        "y_test = [[11],[8.5],[15], [18], [11]]"
      ],
      "execution_count": 0,
      "outputs": []
    },
    {
      "cell_type": "code",
      "metadata": {
        "id": "AKxtzFYy09I1",
        "colab_type": "code",
        "colab": {}
      },
      "source": [
        "predictions= model.predict(X_test)"
      ],
      "execution_count": 0,
      "outputs": []
    },
    {
      "cell_type": "code",
      "metadata": {
        "id": "sVVfCFQ91D16",
        "colab_type": "code",
        "colab": {
          "base_uri": "https://localhost:8080/",
          "height": 102
        },
        "outputId": "3100ece8-bcf0-450d-dfab-b7c42a45a354"
      },
      "source": [
        "for i, prediction in enumerate(predictions):\n",
        "  print(\"Predicted:\", prediction, \", Target:\", y_test[i])"
      ],
      "execution_count": 8,
      "outputs": [
        {
          "output_type": "stream",
          "text": [
            "Predicted: [10.0625] , Target: [11]\n",
            "Predicted: [10.28125] , Target: [8.5]\n",
            "Predicted: [13.09375] , Target: [15]\n",
            "Predicted: [18.14583333] , Target: [18]\n",
            "Predicted: [13.3125] , Target: [11]\n"
          ],
          "name": "stdout"
        }
      ]
    },
    {
      "cell_type": "code",
      "metadata": {
        "id": "Z-Dadlal1gt8",
        "colab_type": "code",
        "colab": {
          "base_uri": "https://localhost:8080/",
          "height": 34
        },
        "outputId": "6a4df272-fc48-4b46-ec84-5768166b4f7f"
      },
      "source": [
        "model.score(X_test, y_test)"
      ],
      "execution_count": 9,
      "outputs": [
        {
          "output_type": "execute_result",
          "data": {
            "text/plain": [
              "0.7701677731318468"
            ]
          },
          "metadata": {
            "tags": []
          },
          "execution_count": 9
        }
      ]
    },
    {
      "cell_type": "code",
      "metadata": {
        "id": "TNz32hVO1tAS",
        "colab_type": "code",
        "colab": {}
      },
      "source": [
        "#Multiple Linear Regression models perform better than simple linear regression models"
      ],
      "execution_count": 0,
      "outputs": []
    }
  ]
}